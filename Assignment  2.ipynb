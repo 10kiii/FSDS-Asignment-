{
 "cells": [
  {
   "cell_type": "code",
   "execution_count": null,
   "id": "58fbd55b",
   "metadata": {},
   "outputs": [],
   "source": [
    "#1.\tWrite a Python program to convert kilometers to miles?\n",
    "A = int(input(\" Enter value in kilometer =\"))\n",
    "B= (A * 0.62137119)\n",
    "print(A, \"Kilometer =\",B, \"Miles\")"
   ]
  },
  {
   "cell_type": "code",
   "execution_count": null,
   "id": "8918e8b2",
   "metadata": {},
   "outputs": [],
   "source": [
    "#2.\tWrite a Python program to convert Celsius to Fahrenheit?\n",
    "C = int(input(\" Enter Temp in celcius\"))\n",
    "D= (C * 1.8)+32\n",
    "print(C, \"celsius =\",D, \"Fahrenheit\")"
   ]
  },
  {
   "cell_type": "code",
   "execution_count": null,
   "id": "c80cf69d",
   "metadata": {},
   "outputs": [],
   "source": [
    "#3.\tWrite a Python program to display calendar?\n",
    "E = int(input(\"Enter year Ex. yyyy \"))\n",
    "F = int(input(\"Enter month Ex. dd \"))\n",
    "print(calendar.month(E, F))"
   ]
  },
  {
   "cell_type": "code",
   "execution_count": null,
   "id": "8a1f99eb",
   "metadata": {},
   "outputs": [],
   "source": [
    "#4.\tWrite a Python program to solve quadratic equation?\n",
    "import cmath\n",
    "a = int(input(\"Enter value of a = \"))\n",
    "b = int(input(\"Enter value of b = \"))\n",
    "c = int(input(\"Enter value of c = \"))\n",
    "d= (b**2)-(4*a*c)\n",
    "Root1 = (-b-cmath.sqrt(d))/(2*a)\n",
    "Root2 = (-b+cmath.sqrt(d))/(2*a)\n",
    "print(\"x1=\", Root1, \"X2=\" , Root2)\n"
   ]
  },
  {
   "cell_type": "code",
   "execution_count": null,
   "id": "c197087d",
   "metadata": {},
   "outputs": [],
   "source": [
    "#5.\tWrite a Python program to swap two variables without temp variable?\n",
    "G = (input(\"Enter veriable\" ))\n",
    "H = (input(\"Enter veriable\" ))\n",
    "G,H=H,G\n",
    "print(\"G =\",G)\n",
    "print(\"H = \",H)\n",
    "           \n",
    "           "
   ]
  },
  {
   "cell_type": "code",
   "execution_count": null,
   "id": "655a5eca",
   "metadata": {},
   "outputs": [],
   "source": []
  }
 ],
 "metadata": {
  "kernelspec": {
   "display_name": "Python 3 (ipykernel)",
   "language": "python",
   "name": "python3"
  },
  "language_info": {
   "codemirror_mode": {
    "name": "ipython",
    "version": 3
   },
   "file_extension": ".py",
   "mimetype": "text/x-python",
   "name": "python",
   "nbconvert_exporter": "python",
   "pygments_lexer": "ipython3",
   "version": "3.9.7"
  }
 },
 "nbformat": 4,
 "nbformat_minor": 5
}
