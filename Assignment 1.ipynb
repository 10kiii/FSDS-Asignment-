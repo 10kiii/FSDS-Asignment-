{
 "cells": [
  {
   "cell_type": "code",
   "execution_count": 2,
   "id": "fb4ba6d5",
   "metadata": {},
   "outputs": [
    {
     "name": "stdout",
     "output_type": "stream",
     "text": [
      "Hello Python\n"
     ]
    }
   ],
   "source": [
    "#1.\tWrite a Python program to print \"Hello Python\"?\n",
    "print(\"Hello Python\")"
   ]
  },
  {
   "cell_type": "code",
   "execution_count": null,
   "id": "28436123",
   "metadata": {},
   "outputs": [],
   "source": [
    "#2.\tWrite a Python program to do arithmetical operations addition and division.?\n",
    "A = int(input(\"Enter value\"))\n",
    "B= int(input(\"Enter value\"))\n",
    "print(\"Addition =\", A+B)\n",
    "print(\"Division =\", A/B)\n",
    "\n",
    "\n"
   ]
  },
  {
   "cell_type": "code",
   "execution_count": null,
   "id": "01e98f67",
   "metadata": {},
   "outputs": [],
   "source": [
    "#3.\tWrite a Python program to find the area of a triangle?\n",
    "C= int(input(\"Enter value of Base  \"))\n",
    "D= int(input(\"Enter value of Hight  \"))\n",
    "Area=1/2*C*D\n",
    "print(\"Area of triangle =\", Area)"
   ]
  },
  {
   "cell_type": "code",
   "execution_count": null,
   "id": "2e3d6204",
   "metadata": {},
   "outputs": [],
   "source": [
    "#4.\tWrite a Python program to swap two variables?\n",
    "E = input(\"Enter Veriable \")\n",
    "F = input(\"Enter Veriable \")\n",
    "tempt = E\n",
    "E=F\n",
    "F = tempt\n",
    "print('The value of E after swapping',E)\n",
    "print('The value of F after swapping', F)\n"
   ]
  },
  {
   "cell_type": "code",
   "execution_count": 3,
   "id": "736a2c32",
   "metadata": {},
   "outputs": [
    {
     "name": "stdout",
     "output_type": "stream",
     "text": [
      "581\n"
     ]
    }
   ],
   "source": [
    "#5.\tWrite a Python program to generate a random number?\n",
    "import random\n",
    "x = random.randint(0,1000)\n",
    "print(x)\n",
    "    "
   ]
  },
  {
   "cell_type": "code",
   "execution_count": null,
   "id": "35af3fbe",
   "metadata": {},
   "outputs": [],
   "source": []
  }
 ],
 "metadata": {
  "kernelspec": {
   "display_name": "Python 3 (ipykernel)",
   "language": "python",
   "name": "python3"
  },
  "language_info": {
   "codemirror_mode": {
    "name": "ipython",
    "version": 3
   },
   "file_extension": ".py",
   "mimetype": "text/x-python",
   "name": "python",
   "nbconvert_exporter": "python",
   "pygments_lexer": "ipython3",
   "version": "3.9.7"
  }
 },
 "nbformat": 4,
 "nbformat_minor": 5
}
